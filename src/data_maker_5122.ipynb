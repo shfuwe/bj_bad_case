{
 "cells": [
  {
   "cell_type": "code",
   "execution_count": 8,
   "metadata": {},
   "outputs": [],
   "source": [
    "import pandas as pd\n",
    "data1=pd.read_csv(\"../data/title1.csv\",header=None)\n",
    "data2=pd.read_csv(\"../data/title2.csv\",header=None)\n",
    "data3=pd.read_csv(\"../data/title3.csv\",header=None)\n",
    "data4=pd.read_csv(\"../data/title4.csv\",header=None)\n",
    "data1.columns=['label','title']\n",
    "data2.columns=['label','title']\n",
    "data3.columns=['label','title']\n",
    "data4.columns=['label','title']"
   ]
  },
  {
   "cell_type": "code",
   "execution_count": 16,
   "metadata": {},
   "outputs": [
    {
     "data": {
      "text/plain": [
       "(31900, 2)"
      ]
     },
     "execution_count": 16,
     "metadata": {},
     "output_type": "execute_result"
    }
   ],
   "source": [
    "data1.shape"
   ]
  },
  {
   "cell_type": "code",
   "execution_count": null,
   "metadata": {},
   "outputs": [],
   "source": []
  },
  {
   "cell_type": "code",
   "execution_count": 32,
   "metadata": {},
   "outputs": [],
   "source": [
    "def fen_date(data):\n",
    "    len_=len(data)\n",
    "    data=data.sample(frac=1.0)\n",
    "    data_train=data[0:int(len_*0.5)]\n",
    "    data_val=data[int(len_*0.5):int(len_*0.6)]\n",
    "    data_test1=data[int(len_*0.6):int(len_*0.8)]\n",
    "    data_test2=data[int(len_*0.8):len_]\n",
    "    return data_train,data_val,data_test1,data_test2\n"
   ]
  },
  {
   "cell_type": "code",
   "execution_count": 33,
   "metadata": {},
   "outputs": [],
   "source": [
    "data_train,data_val,data_test1,data_test2=fen_date(data1)\n",
    "\n",
    "data_train0,data_val0,data_test10,data_test20=fen_date(data2)\n",
    "data_train=pd.concat([data_train,data_train0])\n",
    "data_val=pd.concat([data_val,data_val0])\n",
    "data_test1=pd.concat([data_test1,data_test10])\n",
    "data_test2=pd.concat([data_test2,data_test20])\n",
    "\n",
    "data_train0,data_val0,data_test10,data_test20=fen_date(data3)\n",
    "data_train=pd.concat([data_train,data_train0])\n",
    "data_val=pd.concat([data_val,data_val0])\n",
    "data_test1=pd.concat([data_test1,data_test10])\n",
    "data_test2=pd.concat([data_test2,data_test20])\n",
    "\n",
    "data_train0,data_val0,data_test10,data_test20=fen_date(data4)\n",
    "data_train=pd.concat([data_train,data_train0])\n",
    "data_val=pd.concat([data_val,data_val0])\n",
    "data_test1=pd.concat([data_test1,data_test10])\n",
    "data_test2=pd.concat([data_test2,data_test20])"
   ]
  },
  {
   "cell_type": "code",
   "execution_count": 34,
   "metadata": {},
   "outputs": [
    {
     "name": "stdout",
     "output_type": "stream",
     "text": [
      "(63800, 2) (12760, 2) (25520, 2) (25520, 2)\n"
     ]
    }
   ],
   "source": [
    "print(data_train.shape,data_val.shape,data_test1.shape,data_test2.shape)"
   ]
  },
  {
   "cell_type": "code",
   "execution_count": 36,
   "metadata": {},
   "outputs": [],
   "source": [
    "data_train=data_train.sample(frac=1.0)\n",
    "data_val=data_val.sample(frac=1.0)\n",
    "data_test1=data_test1.sample(frac=1.0)\n",
    "data_test2=data_test2.sample(frac=1.0)"
   ]
  },
  {
   "cell_type": "code",
   "execution_count": 39,
   "metadata": {},
   "outputs": [],
   "source": [
    "data_train.to_csv(\"../data/data_train.csv\",index=0)\n",
    "data_val.to_csv(\"../data/data_val.csv\",index=0)\n",
    "data_test1.to_csv(\"../data/data_test1.csv\",index=0)\n",
    "data_test2.to_csv(\"../data/data_test2.csv\",index=0)"
   ]
  },
  {
   "cell_type": "code",
   "execution_count": 40,
   "metadata": {},
   "outputs": [],
   "source": [
    "data_train=pd.read_csv(\"../data/data_train.csv\")\n",
    "data_val=pd.read_csv(\"../data/data_val.csv\")\n",
    "data_test1=pd.read_csv(\"../data/data_test1.csv\")\n",
    "data_test2=pd.read_csv(\"../data/data_test2.csv\")"
   ]
  },
  {
   "cell_type": "code",
   "execution_count": 41,
   "metadata": {},
   "outputs": [
    {
     "data": {
      "text/html": [
       "<div>\n",
       "<style scoped>\n",
       "    .dataframe tbody tr th:only-of-type {\n",
       "        vertical-align: middle;\n",
       "    }\n",
       "\n",
       "    .dataframe tbody tr th {\n",
       "        vertical-align: top;\n",
       "    }\n",
       "\n",
       "    .dataframe thead th {\n",
       "        text-align: right;\n",
       "    }\n",
       "</style>\n",
       "<table border=\"1\" class=\"dataframe\">\n",
       "  <thead>\n",
       "    <tr style=\"text-align: right;\">\n",
       "      <th></th>\n",
       "      <th>label</th>\n",
       "      <th>title</th>\n",
       "    </tr>\n",
       "  </thead>\n",
       "  <tbody>\n",
       "    <tr>\n",
       "      <th>0</th>\n",
       "      <td>2</td>\n",
       "      <td>Bengals ink veteran safety Mitchell</td>\n",
       "    </tr>\n",
       "    <tr>\n",
       "      <th>1</th>\n",
       "      <td>4</td>\n",
       "      <td>Philadelphia Expands Free Wireless Web Access ...</td>\n",
       "    </tr>\n",
       "    <tr>\n",
       "      <th>2</th>\n",
       "      <td>1</td>\n",
       "      <td>Australians head to Indonesia</td>\n",
       "    </tr>\n",
       "    <tr>\n",
       "      <th>3</th>\n",
       "      <td>4</td>\n",
       "      <td>DoCoMo Chooses Linux  amp; Symbian</td>\n",
       "    </tr>\n",
       "    <tr>\n",
       "      <th>4</th>\n",
       "      <td>1</td>\n",
       "      <td>Briton in Afghan kidnap dispute</td>\n",
       "    </tr>\n",
       "    <tr>\n",
       "      <th>...</th>\n",
       "      <td>...</td>\n",
       "      <td>...</td>\n",
       "    </tr>\n",
       "    <tr>\n",
       "      <th>12755</th>\n",
       "      <td>2</td>\n",
       "      <td>Clement surprise leader at Madrid Open, Montgo...</td>\n",
       "    </tr>\n",
       "    <tr>\n",
       "      <th>12756</th>\n",
       "      <td>1</td>\n",
       "      <td>PM clarifies Downer #39;s ANZUS comments</td>\n",
       "    </tr>\n",
       "    <tr>\n",
       "      <th>12757</th>\n",
       "      <td>4</td>\n",
       "      <td>Will the US election matter to the IT sector?</td>\n",
       "    </tr>\n",
       "    <tr>\n",
       "      <th>12758</th>\n",
       "      <td>3</td>\n",
       "      <td>Virgin Mobile adds more customers</td>\n",
       "    </tr>\n",
       "    <tr>\n",
       "      <th>12759</th>\n",
       "      <td>2</td>\n",
       "      <td>Patriots Open With Win</td>\n",
       "    </tr>\n",
       "  </tbody>\n",
       "</table>\n",
       "<p>12760 rows × 2 columns</p>\n",
       "</div>"
      ],
      "text/plain": [
       "       label                                              title\n",
       "0          2                Bengals ink veteran safety Mitchell\n",
       "1          4  Philadelphia Expands Free Wireless Web Access ...\n",
       "2          1                      Australians head to Indonesia\n",
       "3          4                 DoCoMo Chooses Linux  amp; Symbian\n",
       "4          1                    Briton in Afghan kidnap dispute\n",
       "...      ...                                                ...\n",
       "12755      2  Clement surprise leader at Madrid Open, Montgo...\n",
       "12756      1           PM clarifies Downer #39;s ANZUS comments\n",
       "12757      4      Will the US election matter to the IT sector?\n",
       "12758      3                  Virgin Mobile adds more customers\n",
       "12759      2                             Patriots Open With Win\n",
       "\n",
       "[12760 rows x 2 columns]"
      ]
     },
     "execution_count": 41,
     "metadata": {},
     "output_type": "execute_result"
    }
   ],
   "source": [
    "data_val"
   ]
  },
  {
   "cell_type": "code",
   "execution_count": null,
   "metadata": {},
   "outputs": [],
   "source": []
  }
 ],
 "metadata": {
  "kernelspec": {
   "display_name": "bj2",
   "language": "python",
   "name": "bj2"
  },
  "language_info": {
   "codemirror_mode": {
    "name": "ipython",
    "version": 3
   },
   "file_extension": ".py",
   "mimetype": "text/x-python",
   "name": "python",
   "nbconvert_exporter": "python",
   "pygments_lexer": "ipython3",
   "version": "3.7.11"
  }
 },
 "nbformat": 4,
 "nbformat_minor": 2
}
