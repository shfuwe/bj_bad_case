{
 "cells": [
  {
   "cell_type": "code",
   "execution_count": 8,
   "metadata": {},
   "outputs": [],
   "source": [
    "import pandas as pd\n",
    "data1=pd.read_csv(\"../data/title1.csv\",header=None)\n",
    "data2=pd.read_csv(\"../data/title2.csv\",header=None)\n",
    "data3=pd.read_csv(\"../data/title3.csv\",header=None)\n",
    "data4=pd.read_csv(\"../data/title4.csv\",header=None)\n",
    "data1.columns=['label','title']\n",
    "data2.columns=['label','title']\n",
    "data3.columns=['label','title']\n",
    "data4.columns=['label','title']"
   ]
  },
  {
   "cell_type": "code",
   "execution_count": 16,
   "metadata": {},
   "outputs": [
    {
     "data": {
      "text/plain": [
       "(31900, 2)"
      ]
     },
     "execution_count": 16,
     "metadata": {},
     "output_type": "execute_result"
    }
   ],
   "source": [
    "data1.shape"
   ]
  },
  {
   "cell_type": "code",
   "execution_count": null,
   "metadata": {},
   "outputs": [],
   "source": []
  },
  {
   "cell_type": "code",
   "execution_count": 32,
   "metadata": {},
   "outputs": [],
   "source": [
    "def fen_date(data):\n",
    "    len_=len(data)\n",
    "    data=data.sample(frac=1.0)\n",
    "    data_train=data[0:int(len_*0.5)]\n",
    "    data_val=data[int(len_*0.5):int(len_*0.6)]\n",
    "    data_test1=data[int(len_*0.6):int(len_*0.8)]\n",
    "    data_test2=data[int(len_*0.8):len_]\n",
    "    return data_train,data_val,data_test1,data_test2\n"
   ]
  },
  {
   "cell_type": "code",
   "execution_count": 33,
   "metadata": {},
   "outputs": [],
   "source": [
    "data_train,data_val,data_test1,data_test2=fen_date(data1)\n",
    "\n",
    "data_train0,data_val0,data_test10,data_test20=fen_date(data2)\n",
    "data_train=pd.concat([data_train,data_train0])\n",
    "data_val=pd.concat([data_val,data_val0])\n",
    "data_test1=pd.concat([data_test1,data_test10])\n",
    "data_test2=pd.concat([data_test2,data_test20])\n",
    "\n",
    "data_train0,data_val0,data_test10,data_test20=fen_date(data3)\n",
    "data_train=pd.concat([data_train,data_train0])\n",
    "data_val=pd.concat([data_val,data_val0])\n",
    "data_test1=pd.concat([data_test1,data_test10])\n",
    "data_test2=pd.concat([data_test2,data_test20])\n",
    "\n",
    "data_train0,data_val0,data_test10,data_test20=fen_date(data4)\n",
    "data_train=pd.concat([data_train,data_train0])\n",
    "data_val=pd.concat([data_val,data_val0])\n",
    "data_test1=pd.concat([data_test1,data_test10])\n",
    "data_test2=pd.concat([data_test2,data_test20])"
   ]
  },
  {
   "cell_type": "code",
   "execution_count": 34,
   "metadata": {},
   "outputs": [
    {
     "name": "stdout",
     "output_type": "stream",
     "text": [
      "(63800, 2) (12760, 2) (25520, 2) (25520, 2)\n"
     ]
    }
   ],
   "source": [
    "print(data_train.shape,data_val.shape,data_test1.shape,data_test2.shape)"
   ]
  },
  {
   "cell_type": "code",
   "execution_count": 36,
   "metadata": {},
   "outputs": [],
   "source": [
    "data_train=data_train.sample(frac=1.0)\n",
    "data_val=data_val.sample(frac=1.0)\n",
    "data_test1=data_test1.sample(frac=1.0)\n",
    "data_test2=data_test2.sample(frac=1.0)"
   ]
  },
  {
   "cell_type": "code",
   "execution_count": null,
   "metadata": {},
   "outputs": [],
   "source": [
    "data_train.to_csv(\"../data/data_train.csv\",header=0)\n",
    "data_val.to_csv(\"../data/data_val.csv\",header=0)\n",
    "data_test1.to_csv(\"../data/data_test1.csv\",header=0)\n",
    "data_test2.to_csv(\"../data/data_test2.csv\",header=0)"
   ]
  }
 ],
 "metadata": {
  "kernelspec": {
   "display_name": "bj2",
   "language": "python",
   "name": "bj2"
  },
  "language_info": {
   "codemirror_mode": {
    "name": "ipython",
    "version": 3
   },
   "file_extension": ".py",
   "mimetype": "text/x-python",
   "name": "python",
   "nbconvert_exporter": "python",
   "pygments_lexer": "ipython3",
   "version": "3.7.11"
  }
 },
 "nbformat": 4,
 "nbformat_minor": 2
}
